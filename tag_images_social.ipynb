{
 "cells": [
  {
   "cell_type": "code",
   "execution_count": 1,
   "metadata": {
    "collapsed": true
   },
   "outputs": [],
   "source": [
    "import ipywidgets as widgets\n",
    "from traitlets import Unicode, validate\n",
    "\n",
    "class KeyWidget(widgets.DOMWidget):\n",
    "    _view_name = Unicode('KeyView').tag(sync=True)\n",
    "    _view_module = Unicode('keyview').tag(sync=True)\n",
    "    current_key = Unicode('nothing').tag(sync=True)\n",
    "    "
   ]
  },
  {
   "cell_type": "code",
   "execution_count": 2,
   "metadata": {},
   "outputs": [
    {
     "data": {
      "application/javascript": [
       "require.undef('keyview');\n",
       "\n",
       "window.inputElement = undefined;\n",
       "\n",
       "define('keyview', [\"jupyter-js-widgets\"], function(widgets) {\n",
       "\n",
       "    var KeyView = widgets.DOMWidgetView.extend({\n",
       "        render: function() {\n",
       "            this.el.textContent = 'Press a key to tag the image below.';\n",
       "            \n",
       "            document.onkeydown = function(evt) {\n",
       "                if (window.inputElement === undefined || window.inputElement !== document.activeElement) { return; }\n",
       "                evt = evt || window.event;\n",
       "                this.model.set(\"current_key\", \"None\");\n",
       "                this.touch();\n",
       "                this.model.set(\"current_key\", evt.key);\n",
       "                this.touch();\n",
       "            }.bind(this);\n",
       "        }\n",
       "    });\n",
       "\n",
       "    return {\n",
       "        KeyView: KeyView\n",
       "    }\n",
       "});"
      ],
      "text/plain": [
       "<IPython.core.display.Javascript object>"
      ]
     },
     "metadata": {},
     "output_type": "display_data"
    }
   ],
   "source": [
    "%%javascript\n",
    "require.undef('keyview');\n",
    "\n",
    "window.inputElement = undefined;\n",
    "\n",
    "define('keyview', [\"jupyter-js-widgets\"], function(widgets) {\n",
    "\n",
    "    var KeyView = widgets.DOMWidgetView.extend({\n",
    "        render: function() {\n",
    "            this.el.textContent = 'Press a key to tag the image below.';\n",
    "            \n",
    "            document.onkeydown = function(evt) {\n",
    "                if (window.inputElement === undefined || window.inputElement !== document.activeElement) { return; }\n",
    "                evt = evt || window.event;\n",
    "                this.model.set(\"current_key\", \"None\");\n",
    "                this.touch();\n",
    "                this.model.set(\"current_key\", evt.key);\n",
    "                this.touch();\n",
    "            }.bind(this);\n",
    "        }\n",
    "    });\n",
    "\n",
    "    return {\n",
    "        KeyView: KeyView\n",
    "    }\n",
    "});"
   ]
  },
  {
   "cell_type": "code",
   "execution_count": 3,
   "metadata": {},
   "outputs": [
    {
     "name": "stdout",
     "output_type": "stream",
     "text": [
      "All categories: ['odometer', 'REGO sticker', 'REGO plate', 'VIN', 'document', 'mechanical', 'exterior', 'interior', 'part']\n"
     ]
    },
    {
     "ename": "KeyboardInterrupt",
     "evalue": "",
     "output_type": "error",
     "traceback": [
      "\u001b[0;31m---------------------------------------------------------------------------\u001b[0m",
      "\u001b[0;31mKeyboardInterrupt\u001b[0m                         Traceback (most recent call last)",
      "\u001b[0;32m/Users/wircho/anaconda/lib/python3.6/site-packages/ipykernel/kernelbase.py\u001b[0m in \u001b[0;36m_input_request\u001b[0;34m(self, prompt, ident, parent, password)\u001b[0m\n\u001b[1;32m    729\u001b[0m             \u001b[0;32mtry\u001b[0m\u001b[0;34m:\u001b[0m\u001b[0;34m\u001b[0m\u001b[0m\n\u001b[0;32m--> 730\u001b[0;31m                 \u001b[0mident\u001b[0m\u001b[0;34m,\u001b[0m \u001b[0mreply\u001b[0m \u001b[0;34m=\u001b[0m \u001b[0mself\u001b[0m\u001b[0;34m.\u001b[0m\u001b[0msession\u001b[0m\u001b[0;34m.\u001b[0m\u001b[0mrecv\u001b[0m\u001b[0;34m(\u001b[0m\u001b[0mself\u001b[0m\u001b[0;34m.\u001b[0m\u001b[0mstdin_socket\u001b[0m\u001b[0;34m,\u001b[0m \u001b[0;36m0\u001b[0m\u001b[0;34m)\u001b[0m\u001b[0;34m\u001b[0m\u001b[0m\n\u001b[0m\u001b[1;32m    731\u001b[0m             \u001b[0;32mexcept\u001b[0m \u001b[0mException\u001b[0m\u001b[0;34m:\u001b[0m\u001b[0;34m\u001b[0m\u001b[0m\n",
      "\u001b[0;32m/Users/wircho/anaconda/lib/python3.6/site-packages/jupyter_client/session.py\u001b[0m in \u001b[0;36mrecv\u001b[0;34m(self, socket, mode, content, copy)\u001b[0m\n\u001b[1;32m    777\u001b[0m         \u001b[0;32mtry\u001b[0m\u001b[0;34m:\u001b[0m\u001b[0;34m\u001b[0m\u001b[0m\n\u001b[0;32m--> 778\u001b[0;31m             \u001b[0mmsg_list\u001b[0m \u001b[0;34m=\u001b[0m \u001b[0msocket\u001b[0m\u001b[0;34m.\u001b[0m\u001b[0mrecv_multipart\u001b[0m\u001b[0;34m(\u001b[0m\u001b[0mmode\u001b[0m\u001b[0;34m,\u001b[0m \u001b[0mcopy\u001b[0m\u001b[0;34m=\u001b[0m\u001b[0mcopy\u001b[0m\u001b[0;34m)\u001b[0m\u001b[0;34m\u001b[0m\u001b[0m\n\u001b[0m\u001b[1;32m    779\u001b[0m         \u001b[0;32mexcept\u001b[0m \u001b[0mzmq\u001b[0m\u001b[0;34m.\u001b[0m\u001b[0mZMQError\u001b[0m \u001b[0;32mas\u001b[0m \u001b[0me\u001b[0m\u001b[0;34m:\u001b[0m\u001b[0;34m\u001b[0m\u001b[0m\n",
      "\u001b[0;32m/Users/wircho/anaconda/lib/python3.6/site-packages/zmq/sugar/socket.py\u001b[0m in \u001b[0;36mrecv_multipart\u001b[0;34m(self, flags, copy, track)\u001b[0m\n\u001b[1;32m    394\u001b[0m         \"\"\"\n\u001b[0;32m--> 395\u001b[0;31m         \u001b[0mparts\u001b[0m \u001b[0;34m=\u001b[0m \u001b[0;34m[\u001b[0m\u001b[0mself\u001b[0m\u001b[0;34m.\u001b[0m\u001b[0mrecv\u001b[0m\u001b[0;34m(\u001b[0m\u001b[0mflags\u001b[0m\u001b[0;34m,\u001b[0m \u001b[0mcopy\u001b[0m\u001b[0;34m=\u001b[0m\u001b[0mcopy\u001b[0m\u001b[0;34m,\u001b[0m \u001b[0mtrack\u001b[0m\u001b[0;34m=\u001b[0m\u001b[0mtrack\u001b[0m\u001b[0;34m)\u001b[0m\u001b[0;34m]\u001b[0m\u001b[0;34m\u001b[0m\u001b[0m\n\u001b[0m\u001b[1;32m    396\u001b[0m         \u001b[0;31m# have first part already, only loop while more to receive\u001b[0m\u001b[0;34m\u001b[0m\u001b[0;34m\u001b[0m\u001b[0m\n",
      "\u001b[0;32mzmq/backend/cython/socket.pyx\u001b[0m in \u001b[0;36mzmq.backend.cython.socket.Socket.recv (zmq/backend/cython/socket.c:7683)\u001b[0;34m()\u001b[0m\n",
      "\u001b[0;32mzmq/backend/cython/socket.pyx\u001b[0m in \u001b[0;36mzmq.backend.cython.socket.Socket.recv (zmq/backend/cython/socket.c:7460)\u001b[0;34m()\u001b[0m\n",
      "\u001b[0;32mzmq/backend/cython/socket.pyx\u001b[0m in \u001b[0;36mzmq.backend.cython.socket._recv_copy (zmq/backend/cython/socket.c:2344)\u001b[0;34m()\u001b[0m\n",
      "\u001b[0;32m/Users/wircho/anaconda/lib/python3.6/site-packages/zmq/backend/cython/checkrc.pxd\u001b[0m in \u001b[0;36mzmq.backend.cython.checkrc._check_rc (zmq/backend/cython/socket.c:9621)\u001b[0;34m()\u001b[0m\n",
      "\u001b[0;31mKeyboardInterrupt\u001b[0m: ",
      "\nDuring handling of the above exception, another exception occurred:\n",
      "\u001b[0;31mKeyboardInterrupt\u001b[0m                         Traceback (most recent call last)",
      "\u001b[0;32m<ipython-input-3-912b2c4e3142>\u001b[0m in \u001b[0;36m<module>\u001b[0;34m()\u001b[0m\n\u001b[1;32m     10\u001b[0m     \u001b[0;32mreturn\u001b[0m \u001b[0;32mNone\u001b[0m\u001b[0;34m\u001b[0m\u001b[0m\n\u001b[1;32m     11\u001b[0m \u001b[0;34m\u001b[0m\u001b[0m\n\u001b[0;32m---> 12\u001b[0;31m \u001b[0mselected_category\u001b[0m \u001b[0;34m=\u001b[0m \u001b[0minput_category\u001b[0m\u001b[0;34m(\u001b[0m\u001b[0;34m\"Enter a category: \"\u001b[0m\u001b[0;34m)\u001b[0m\u001b[0;34m\u001b[0m\u001b[0m\n\u001b[0m\u001b[1;32m     13\u001b[0m \u001b[0;32mwhile\u001b[0m \u001b[0mselected_category\u001b[0m \u001b[0;32mis\u001b[0m \u001b[0;32mNone\u001b[0m\u001b[0;34m:\u001b[0m\u001b[0;34m\u001b[0m\u001b[0m\n\u001b[1;32m     14\u001b[0m     \u001b[0mselected_category\u001b[0m \u001b[0;34m=\u001b[0m \u001b[0minput_category\u001b[0m\u001b[0;34m(\u001b[0m\u001b[0;34m\"Please enter a valid category: \"\u001b[0m\u001b[0;34m)\u001b[0m\u001b[0;34m\u001b[0m\u001b[0m\n",
      "\u001b[0;32m<ipython-input-3-912b2c4e3142>\u001b[0m in \u001b[0;36minput_category\u001b[0;34m(q)\u001b[0m\n\u001b[1;32m      5\u001b[0m \u001b[0;34m\u001b[0m\u001b[0m\n\u001b[1;32m      6\u001b[0m \u001b[0;32mdef\u001b[0m \u001b[0minput_category\u001b[0m\u001b[0;34m(\u001b[0m\u001b[0mq\u001b[0m\u001b[0;34m)\u001b[0m\u001b[0;34m:\u001b[0m\u001b[0;34m\u001b[0m\u001b[0m\n\u001b[0;32m----> 7\u001b[0;31m     \u001b[0mvalue\u001b[0m \u001b[0;34m=\u001b[0m \u001b[0minput\u001b[0m\u001b[0;34m(\u001b[0m\u001b[0mq\u001b[0m\u001b[0;34m)\u001b[0m\u001b[0;34m\u001b[0m\u001b[0m\n\u001b[0m\u001b[1;32m      8\u001b[0m     \u001b[0;32mfor\u001b[0m \u001b[0mcat\u001b[0m \u001b[0;32min\u001b[0m \u001b[0mall_categories\u001b[0m\u001b[0;34m:\u001b[0m\u001b[0;34m\u001b[0m\u001b[0m\n\u001b[1;32m      9\u001b[0m         \u001b[0;32mif\u001b[0m \u001b[0mcat\u001b[0m\u001b[0;34m.\u001b[0m\u001b[0mname\u001b[0m \u001b[0;34m==\u001b[0m \u001b[0mvalue\u001b[0m\u001b[0;34m:\u001b[0m \u001b[0;32mreturn\u001b[0m \u001b[0mcat\u001b[0m\u001b[0;34m\u001b[0m\u001b[0m\n",
      "\u001b[0;32m/Users/wircho/anaconda/lib/python3.6/site-packages/ipykernel/kernelbase.py\u001b[0m in \u001b[0;36mraw_input\u001b[0;34m(self, prompt)\u001b[0m\n\u001b[1;32m    703\u001b[0m             \u001b[0mself\u001b[0m\u001b[0;34m.\u001b[0m\u001b[0m_parent_ident\u001b[0m\u001b[0;34m,\u001b[0m\u001b[0;34m\u001b[0m\u001b[0m\n\u001b[1;32m    704\u001b[0m             \u001b[0mself\u001b[0m\u001b[0;34m.\u001b[0m\u001b[0m_parent_header\u001b[0m\u001b[0;34m,\u001b[0m\u001b[0;34m\u001b[0m\u001b[0m\n\u001b[0;32m--> 705\u001b[0;31m             \u001b[0mpassword\u001b[0m\u001b[0;34m=\u001b[0m\u001b[0;32mFalse\u001b[0m\u001b[0;34m,\u001b[0m\u001b[0;34m\u001b[0m\u001b[0m\n\u001b[0m\u001b[1;32m    706\u001b[0m         )\n\u001b[1;32m    707\u001b[0m \u001b[0;34m\u001b[0m\u001b[0m\n",
      "\u001b[0;32m/Users/wircho/anaconda/lib/python3.6/site-packages/ipykernel/kernelbase.py\u001b[0m in \u001b[0;36m_input_request\u001b[0;34m(self, prompt, ident, parent, password)\u001b[0m\n\u001b[1;32m    733\u001b[0m             \u001b[0;32mexcept\u001b[0m \u001b[0mKeyboardInterrupt\u001b[0m\u001b[0;34m:\u001b[0m\u001b[0;34m\u001b[0m\u001b[0m\n\u001b[1;32m    734\u001b[0m                 \u001b[0;31m# re-raise KeyboardInterrupt, to truncate traceback\u001b[0m\u001b[0;34m\u001b[0m\u001b[0;34m\u001b[0m\u001b[0m\n\u001b[0;32m--> 735\u001b[0;31m                 \u001b[0;32mraise\u001b[0m \u001b[0mKeyboardInterrupt\u001b[0m\u001b[0;34m\u001b[0m\u001b[0m\n\u001b[0m\u001b[1;32m    736\u001b[0m             \u001b[0;32melse\u001b[0m\u001b[0;34m:\u001b[0m\u001b[0;34m\u001b[0m\u001b[0m\n\u001b[1;32m    737\u001b[0m                 \u001b[0;32mbreak\u001b[0m\u001b[0;34m\u001b[0m\u001b[0m\n",
      "\u001b[0;31mKeyboardInterrupt\u001b[0m: "
     ]
    }
   ],
   "source": [
    "from IPython.display import Image, display, clear_output, HTML\n",
    "from tag_image_tools import Folder, Cat, all_categories, top, images, all_image_names\n",
    "\n",
    "print(\"All categories: \" + str(list([cat.name for cat in all_categories])))\n",
    "\n",
    "def input_category(q):\n",
    "    value = input(q)\n",
    "    for cat in all_categories:\n",
    "        if cat.name == value: return cat\n",
    "    return None\n",
    "\n",
    "selected_category = input_category(\"Enter a category: \")\n",
    "while selected_category is None:\n",
    "    selected_category = input_category(\"Please enter a valid category: \")\n",
    "\n",
    "def image_should_show(image_name):\n",
    "    if image_name in deleted_image_names: return True\n",
    "    if selected_category.no.has(image_name) or selected_category.yes.has(image_name): return False\n",
    "    for cat in all_categories:\n",
    "        if cat.name == selected_category.name: continue\n",
    "        if cat.yes.has(image_name): return False\n",
    "    return True\n",
    "\n",
    "def image_set(image_name, value):\n",
    "    if value:\n",
    "        selected_category.no.remove(image_name)\n",
    "        images.copy(image_name, selected_category.yes)\n",
    "    else:\n",
    "        selected_category.yes.remove(image_name)\n",
    "        images.copy(image_name, selected_category.no)\n",
    "        \n",
    "num_yes = selected_category.num_yes\n",
    "num_no = selected_category.num_no\n",
    "num = len(all_image_names)\n",
    "\n",
    "tag_map = {\n",
    "    \"1\": True,\n",
    "    \"2\": False\n",
    "}\n",
    "\n",
    "class TagInput:\n",
    "    def __init__(self, key):\n",
    "        self.key = key\n",
    "        self.tag = tag_map[key] if (key in tag_map) else None\n",
    "        self._isBack = key == \"ArrowLeft\"\n",
    "        self._isForward = key == \"ArrowRight\"\n",
    "        self._isExit = key == \"Escape\"\n",
    "    def isBack(self):\n",
    "        return self._isBack\n",
    "    def isForward(self):\n",
    "        return self._isForward\n",
    "    def isExit(self):\n",
    "        return self._isExit\n",
    "\n",
    "deleted_image_names = {}\n",
    "i = 0\n",
    "warning = None\n",
    "message = None\n",
    "can_handle_tag_input = False\n",
    "key_widget = KeyWidget()\n",
    "display(key_widget)\n",
    "\n",
    "def handle_key(change):\n",
    "    if change.new is None or change.new == \"None\": return\n",
    "    print(\"received a key: \" + change.new)\n",
    "    handle_tag_input(TagInput(change.new))\n",
    "\n",
    "key_widget.observe(handle_key, names=[\"current_key\"])\n",
    "\n",
    "def prepare_for_next_image():\n",
    "    global can_handle_tag_input\n",
    "    while still_preparing(): pass\n",
    "    can_handle_tag_input = True\n",
    "    \n",
    "def handle_tag_input(tag_input):\n",
    "    global can_handle_tag_input\n",
    "    if not can_handle_tag_input: return\n",
    "    can_handle_tag_input = False\n",
    "    if not should_continue(tag_input): return\n",
    "    prepare_for_next_image()\n",
    "    \n",
    "def still_preparing():\n",
    "    global i, warning, message, key_widget\n",
    "    if i < 0: i = 0\n",
    "    if i >= num: i = num - 1\n",
    "    image_name = all_image_names[i]\n",
    "    if i < num - 1 and not image_should_show(image_name):\n",
    "        i += 1\n",
    "        return True\n",
    "    clear_output()\n",
    "    display(Image(images.slash(image_name), width = 200, height = 100))\n",
    "    if not(message is None):\n",
    "        print(message)\n",
    "        message = None\n",
    "    if not(warning is None):\n",
    "        print(\"(!) \" + warning)\n",
    "        warning = None\n",
    "    print(\"[At image \" + str(i + 1) + \"/\" + str(num) + \"]\")\n",
    "    print(\"[Counts: \" + str(num_yes) + \" \" + selected_category.name + \", \" + str(num_no) + \" not \" + selected_category.name + \"]\")\n",
    "    res = selected_category.result(image_name)\n",
    "    one = \"[1]\" if res is True else \"1\"\n",
    "    two = \"[2]\" if res is False else \"2\"\n",
    "    print(one + \": \" + selected_category.name + \", \" + two + \": not \" + selected_category.name)\n",
    "    display(HTML(\"<input type='text' id='txt_field'/><script>window.inputElement = document.getElementById('txt_field'); window.inputElement.focus();</script>\"))\n",
    "    return False\n",
    "\n",
    "def should_continue(tag_input):\n",
    "    global i, warning, message, num, num_yes, num_no\n",
    "    image_name = all_image_names[i]\n",
    "    if tag_input.isBack():\n",
    "        if i <= 0:\n",
    "            warning = \"You're at the first image.\"\n",
    "            return True\n",
    "        prev_image_name = all_image_names[i - 1]\n",
    "        if not image_should_show(image_name): deleted_image_names[image_name] = True\n",
    "        if not image_should_show(prev_image_name): deleted_image_names[prev_image_name] = True\n",
    "        i -= 1\n",
    "    elif tag_input.isForward():\n",
    "        if image_name in deleted_image_names: del deleted_image_names[image_name]\n",
    "        if image_should_show(image_name):\n",
    "            warning = \"Please tag this image first.\"\n",
    "            return True\n",
    "        if i >= num - 1:\n",
    "            clear_output()\n",
    "            print(\"You're done! :) Bye!\")\n",
    "            return False\n",
    "        i += 1\n",
    "    elif tag_input.isExit():\n",
    "        clear_output()\n",
    "        print(\"Ok! :) Bye!\")\n",
    "        return False\n",
    "    elif not(tag_input.tag is None):\n",
    "        if image_name in deleted_image_names: del deleted_image_names[image_name]\n",
    "        res = selected_category.result(image_name)\n",
    "        if res is True: num_yes -= 1\n",
    "        if res is False: num_no -= 1\n",
    "        if tag_input.tag is True: num_yes += 1\n",
    "        if tag_input.tag is False: num_no += 1\n",
    "        image_set(image_name, tag_input.tag)\n",
    "        if i >= num - 1:\n",
    "            clear_output()\n",
    "            print(\"You're done! :) Bye!\")\n",
    "            return False\n",
    "        i += 1\n",
    "    else:\n",
    "        warning = \"Wrong tag (\" + tag_input.key + \"). Please try again.\"\n",
    "    return True\n",
    "\n",
    "prepare_for_next_image()"
   ]
  },
  {
   "cell_type": "code",
   "execution_count": null,
   "metadata": {
    "collapsed": true
   },
   "outputs": [],
   "source": []
  },
  {
   "cell_type": "code",
   "execution_count": null,
   "metadata": {
    "collapsed": true
   },
   "outputs": [],
   "source": []
  },
  {
   "cell_type": "code",
   "execution_count": null,
   "metadata": {
    "collapsed": true
   },
   "outputs": [],
   "source": []
  },
  {
   "cell_type": "code",
   "execution_count": null,
   "metadata": {
    "collapsed": true
   },
   "outputs": [],
   "source": []
  },
  {
   "cell_type": "code",
   "execution_count": null,
   "metadata": {
    "collapsed": true
   },
   "outputs": [],
   "source": []
  },
  {
   "cell_type": "code",
   "execution_count": null,
   "metadata": {
    "collapsed": true
   },
   "outputs": [],
   "source": []
  }
 ],
 "metadata": {
  "kernelspec": {
   "display_name": "Python 3",
   "language": "python",
   "name": "python3"
  },
  "language_info": {
   "codemirror_mode": {
    "name": "ipython",
    "version": 3
   },
   "file_extension": ".py",
   "mimetype": "text/x-python",
   "name": "python",
   "nbconvert_exporter": "python",
   "pygments_lexer": "ipython3",
   "version": "3.6.1"
  }
 },
 "nbformat": 4,
 "nbformat_minor": 2
}
