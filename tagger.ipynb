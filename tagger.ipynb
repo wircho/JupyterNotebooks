{
 "cells": [
  {
   "cell_type": "code",
   "execution_count": null,
   "metadata": {},
   "outputs": [
    {
     "data": {
      "text/html": [
       "<script src=\"tag_images_social_widget.js\"></script>"
      ],
      "text/plain": [
       "<IPython.core.display.HTML object>"
      ]
     },
     "metadata": {},
     "output_type": "display_data"
    },
    {
     "name": "stdout",
     "output_type": "stream",
     "text": [
      "All categories: REGO_plate (340), document (512), interior (852), part (1335), odometer (1364), REGO_sticker (1676), VIN (2013), mechanical (2138), exterior (4048)\n"
     ]
    }
   ],
   "source": [
    "import tagger # *** TO START CLICK HERE AND PRESS THE PLAY BUTTON [▶|] ABOVE ***\n",
    "              # *** IF ANYTHING GOES WRONG: PRESS STOP [■], THEN REFRESH [↻],\n",
    "              #     CONFIRM WITH [Restart], AND PLAY [▶|] AGAIN ***"
   ]
  },
  {
   "cell_type": "code",
   "execution_count": null,
   "metadata": {
    "collapsed": true
   },
   "outputs": [],
   "source": []
  }
 ],
 "metadata": {
  "kernelspec": {
   "display_name": "Python 3",
   "language": "python",
   "name": "python3"
  },
  "language_info": {
   "codemirror_mode": {
    "name": "ipython",
    "version": 3
   },
   "file_extension": ".py",
   "mimetype": "text/x-python",
   "name": "python",
   "nbconvert_exporter": "python",
   "pygments_lexer": "ipython3",
   "version": "3.6.1"
  }
 },
 "nbformat": 4,
 "nbformat_minor": 2
}
