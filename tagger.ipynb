{
 "cells": [
  {
   "cell_type": "code",
   "execution_count": null,
   "metadata": {},
   "outputs": [],
   "source": [
    "import tagger # *** TO START CLICK HERE AND PRESS THE PLAY BUTTON [▶|] ABOVE ***\n",
    "              # *** IF ANYTHING GOES WRONG: PRESS STOP [■], THEN REFRESH [↻],\n",
    "              #     CONFIRM WITH [Restart], AND PLAY [▶|] AGAIN ***"
   ]
  }
 ],
 "metadata": {
  "kernelspec": {
   "display_name": "Python 3",
   "language": "python",
   "name": "python3"
  },
  "language_info": {
   "codemirror_mode": {
    "name": "ipython",
    "version": 3
   },
   "file_extension": ".py",
   "mimetype": "text/x-python",
   "name": "python",
   "nbconvert_exporter": "python",
   "pygments_lexer": "ipython3",
   "version": "3.6.1"
  }
 },
 "nbformat": 4,
 "nbformat_minor": 2
}
